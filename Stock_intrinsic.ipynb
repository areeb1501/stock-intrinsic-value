{
  "nbformat": 4,
  "nbformat_minor": 0,
  "metadata": {
    "colab": {
      "name": "Stock intrinsic.ipynb",
      "provenance": [],
      "authorship_tag": "ABX9TyOQsDEVn7qz9OzZjajcJkSv",
      "include_colab_link": true
    },
    "kernelspec": {
      "name": "python3",
      "display_name": "Python 3"
    },
    "language_info": {
      "name": "python"
    }
  },
  "cells": [
    {
      "cell_type": "markdown",
      "metadata": {
        "id": "view-in-github",
        "colab_type": "text"
      },
      "source": [
        "<a href=\"https://colab.research.google.com/github/areeb1501/stock-intrinsic-value/blob/main/Stock_intrinsic.ipynb\" target=\"_parent\"><img src=\"https://colab.research.google.com/assets/colab-badge.svg\" alt=\"Open In Colab\"/></a>"
      ]
    },
    {
      "cell_type": "code",
      "metadata": {
        "id": "tERBnuTV9f_a"
      },
      "source": [
        "%pip install yfinance"
      ],
      "execution_count": null,
      "outputs": []
    },
    {
      "cell_type": "code",
      "metadata": {
        "id": "-oW08ZQR9cgM"
      },
      "source": [
        "import yfinance as yf\n",
        "\n",
        "#inputing stock symbol\n",
        "name = input(\" ENTER STOCK SYMBOL\")\n",
        "\n",
        "#storing the values in a variable x\n",
        "Stock = yf.Ticker(name)\n",
        "x=Stock.info\n",
        "\n",
        "#extracting r\n",
        "r = x['pegRatio']\n",
        "\n",
        "#extracting PE ratio\n",
        "PE = x['trailingPE']\n",
        "\n",
        "#extracting EPS\n",
        "EPS = x['trailingEps']\n",
        "\n",
        "#extracting previous day close\n",
        "previous_close = x['previousClose']\n",
        "\n",
        "#formula for calculating the intrinsic value of the stock\n",
        "intrinsic_value = EPS * (1+(r/100)) * PE\n",
        "\n",
        "previous_close = x['previousClose']\n",
        "\n",
        "#printing all the statements \n",
        "print(f\"r               : {r}\")\n",
        "print(f\"PE              : {PE}\")\n",
        "print(f\"EPS             : {EPS}\")\n",
        "\n",
        "print(\" \")\n",
        "\n",
        "print(f\"intrinsic value : {intrinsic_value}\")\n",
        "print(f\"Previous Close  : {previous_close}\")\n",
        "\n",
        "print(\" \")\n",
        "\n",
        "if previous_close<intrinsic_value:\n",
        "  print(\"It is a good trade, since the current price is less than intrinsic price\")\n",
        "else:\n",
        "  print(\"This parameter cannot be accurately used for investing.\")"
      ],
      "execution_count": null,
      "outputs": []
    }
  ]
}